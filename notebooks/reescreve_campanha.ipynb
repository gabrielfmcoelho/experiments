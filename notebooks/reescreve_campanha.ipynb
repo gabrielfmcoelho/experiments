{
 "cells": [
  {
   "cell_type": "code",
   "execution_count": 19,
   "metadata": {},
   "outputs": [],
   "source": [
    "import csv\n",
    "import json\n",
    "import datetime\n",
    "import uuid\n",
    "import pandas as pd\n",
    "import requests\n",
    "import time\n",
    "import openai\n",
    "import os\n",
    "from dotenv import load_dotenv\n",
    "import hashlib\n",
    "import concurrent.futures\n",
    "import time"
   ]
  },
  {
   "cell_type": "code",
   "execution_count": 20,
   "metadata": {},
   "outputs": [],
   "source": [
    "CAMINHO_BASE = '../'\n",
    "DIRETORIO_DADOS = CAMINHO_BASE + 'data/'"
   ]
  },
  {
   "cell_type": "code",
   "execution_count": 21,
   "metadata": {},
   "outputs": [],
   "source": [
    "load_dotenv() # Busca .env (normalmente na raiz do projeto) e carrega as variáveis de ambiente\n",
    "openai.api_key = os.getenv(\"OPENAI_API_KEY\", \"sk-xxxxx\") # Define a chave da API do OpenAI com a variável de ambiente OPENAI_API_KEY, se não existir, usa a chave padrão (sk-xxxxx) e não vai funcionar.\n",
    "CANDIDATO = os.getenv(\"CANDIDATO\", \"xxxxx\") \n",
    "CARGO = os.getenv(\"CARGO\", \"xxxxx\") \n",
    "LOCALIDADE = os.getenv(\"LOCALIDADE\", \"xxxxx\") \n",
    "É_REELEIÇÃO = os.getenv(\"É_REELEIÇÃO\", \"xxxxx\") \n",
    "CAMPANHA_ORIGINAL = os.getenv(\"CAMPANHA_ORIGINAL\", \"xxxxx\") "
   ]
  },
  {
   "cell_type": "code",
   "execution_count": 22,
   "metadata": {},
   "outputs": [],
   "source": [
    "def hash_texto(texto) -> str:\n",
    "    return hashlib.md5(texto.encode()).hexdigest()[:8]"
   ]
  },
  {
   "cell_type": "code",
   "execution_count": 23,
   "metadata": {},
   "outputs": [],
   "source": [
    "def assegura_diretorio_campanha(diretorio):\n",
    "    if not os.path.exists(diretorio):\n",
    "        os.makedirs(diretorio)"
   ]
  },
  {
   "cell_type": "code",
   "execution_count": 24,
   "metadata": {},
   "outputs": [],
   "source": [
    "def calcular_margem_tamanho_texto(texto, margem = 0.1, saida_minima = False, saida_maxima = False) -> int:\n",
    "    margem = int(len(texto) * margem)\n",
    "    if saida_minima:\n",
    "        return len(texto) - margem\n",
    "    if saida_maxima:\n",
    "        return len(texto) + margem\n",
    "    return margem"
   ]
  },
  {
   "cell_type": "code",
   "execution_count": 25,
   "metadata": {},
   "outputs": [],
   "source": [
    "def montar_detalhe_reeleicao(é_reeleição) -> str:\n",
    "    if é_reeleição:\n",
    "        return 'e é o atual gestor em busca da reeleição.'\n",
    "    return ', entretanto não é o atual gestor'"
   ]
  },
  {
   "cell_type": "code",
   "execution_count": 26,
   "metadata": {},
   "outputs": [],
   "source": [
    "def reescreveTexto(texto_campanha, prompt_sistema, temperatura = 0.8) -> str:\n",
    "    try:\n",
    "        # Usa o novo método `ChatCompletion.create` para interagir com o modelo\n",
    "        response = openai.ChatCompletion.create(\n",
    "            model=\"gpt-4o-mini\",  # O modelo \"gpt-4-turbo\" é o mais recente e suportado\n",
    "            messages=[\n",
    "                {\"role\": \"system\", \"content\": prompt_sistema},\n",
    "                {\"role\": \"user\", \"content\": texto_campanha}\n",
    "            ],\n",
    "            max_tokens=2000,\n",
    "            temperature=temperatura,\n",
    "        )\n",
    "        \n",
    "        # Obtém o texto reescrito\n",
    "        return response['choices'][0]['message']['content'].strip()\n",
    "    \n",
    "    except Exception as e:\n",
    "        print(\"Erro ao se comunicar com a API do OpenAI:\", e)\n",
    "        raise e"
   ]
  },
  {
   "cell_type": "code",
   "execution_count": 27,
   "metadata": {},
   "outputs": [],
   "source": [
    "def salva_campanhas_alternativas_json(diretorio_campanha, lista_campanhas_alternativas):\n",
    "    caminho_arquivo = diretorio_campanha + 'campanhas_alternativas.json'\n",
    "    with open(caminho_arquivo, 'w', encoding='utf-8') as f:\n",
    "        json.dump(lista_campanhas_alternativas, f, ensure_ascii=False, indent=4)"
   ]
  },
  {
   "cell_type": "code",
   "execution_count": 28,
   "metadata": {},
   "outputs": [],
   "source": [
    "def reescreve_e_salva_campanha(diretorio_dados, campanha_original, prompt_sistema, versões_alternativas = 10, temperatura = 0.8) -> list:\n",
    "    campanhas_alternativas = []\n",
    "    campanhas_alternativas.append(campanha_original)\n",
    "    \n",
    "    def gerar_campanha_alternativa(index):\n",
    "        campanha_alternativa = reescreveTexto(campanha_original, prompt_sistema, temperatura)\n",
    "        print(f'Gerando {index + 1}º versão de campanha alternativa...')\n",
    "        return campanha_alternativa\n",
    "    \n",
    "    with concurrent.futures.ThreadPoolExecutor() as executor:\n",
    "        futures = [executor.submit(gerar_campanha_alternativa, i) for i in range(versões_alternativas)]\n",
    "        completed = 0\n",
    "        for future in concurrent.futures.as_completed(futures):\n",
    "            completed += 1\n",
    "            print(f'{completed}/{versões_alternativas}')\n",
    "            campanhas_alternativas.append(future.result())\n",
    "            time.sleep(1)  # Se precisar manter o intervalo de tempo entre as execuções\n",
    "    \n",
    "    hash_campanha = hash_texto(campanha_original)\n",
    "    diretorio_campanha = diretorio_dados + hash_campanha + '/'\n",
    "    assegura_diretorio_campanha(diretorio_campanha)\n",
    "    salva_campanhas_alternativas_json(diretorio_campanha, campanhas_alternativas)\n",
    "    print(f'Campanhas alternativas salvas em {diretorio_campanha}')\n",
    "    return campanhas_alternativas"
   ]
  },
  {
   "cell_type": "code",
   "execution_count": 31,
   "metadata": {},
   "outputs": [],
   "source": [
    "PROMPT_SISTEMA = f\"Você é um assistente virtual que está ajudando {CANDIDATO}, candidato a {CARGO} da cidade de {LOCALIDADE} a reescrever textos para sua campanha eleitoral. {CANDIDATO} é candidato a {CARGO} {montar_detalhe_reeleicao(É_REELEIÇÃO)}. Lhe será fornecido um texto e você deverá reescrevê-lo de forma a torná-lo ligeiramente diferente, mas mantendo o mesmo sentido e a mesma mensagem. Você não deve adicionar novas informações ao texto ou imaginar situações que não estão presentes no texto original. Troque palavras por sinônimos, reorganize frases, altere a ordem de parágrafos, altere conectores ou outras alterações que julgar necessárias. O texto reescrito deve possuir de {calcular_margem_tamanho_texto(CAMPANHA_ORIGINAL, saida_minima=True)} a {calcular_margem_tamanho_texto(CAMPANHA_ORIGINAL, saida_maxima=True)} caracteres. Mantenha as hashtags presentes no texto original.\""
   ]
  },
  {
   "cell_type": "code",
   "execution_count": 32,
   "metadata": {},
   "outputs": [
    {
     "name": "stdout",
     "output_type": "stream",
     "text": [
      "Gerando 18º versão de campanha alternativa...\n",
      "1/20\n",
      "Gerando 6º versão de campanha alternativa...\n",
      "Gerando 8º versão de campanha alternativa...\n",
      "Gerando 14º versão de campanha alternativa...\n",
      "Gerando 2º versão de campanha alternativa...\n",
      "Gerando 16º versão de campanha alternativa...\n",
      "Gerando 5º versão de campanha alternativa...\n",
      "Gerando 13º versão de campanha alternativa...\n",
      "Gerando 12º versão de campanha alternativa...\n",
      "Gerando 9º versão de campanha alternativa...\n",
      "Gerando 4º versão de campanha alternativa...\n",
      "Gerando 15º versão de campanha alternativa...\n",
      "Gerando 1º versão de campanha alternativa...\n",
      "Gerando 17º versão de campanha alternativa...\n",
      "Gerando 11º versão de campanha alternativa...\n",
      "Gerando 19º versão de campanha alternativa...\n",
      "Gerando 10º versão de campanha alternativa...\n",
      "Gerando 7º versão de campanha alternativa...\n",
      "2/20\n",
      "Gerando 20º versão de campanha alternativa...\n",
      "Gerando 3º versão de campanha alternativa...\n",
      "3/20\n",
      "4/20\n",
      "5/20\n",
      "6/20\n",
      "7/20\n",
      "8/20\n",
      "9/20\n",
      "10/20\n",
      "11/20\n",
      "12/20\n",
      "13/20\n",
      "14/20\n",
      "15/20\n",
      "16/20\n",
      "17/20\n",
      "18/20\n",
      "19/20\n",
      "20/20\n",
      "Campanhas alternativas salvas em ../data/c0ceb00b/\n"
     ]
    }
   ],
   "source": [
    "campanhas_alternativas = reescreve_e_salva_campanha(\n",
    "    DIRETORIO_DADOS,\n",
    "    CAMPANHA_ORIGINAL,\n",
    "    PROMPT_SISTEMA, \n",
    "    versões_alternativas=20,\n",
    "    temperatura=0.75\n",
    "    ) "
   ]
  }
 ],
 "metadata": {
  "kernelspec": {
   "display_name": "openai",
   "language": "python",
   "name": "python3"
  },
  "language_info": {
   "codemirror_mode": {
    "name": "ipython",
    "version": 3
   },
   "file_extension": ".py",
   "mimetype": "text/x-python",
   "name": "python",
   "nbconvert_exporter": "python",
   "pygments_lexer": "ipython3",
   "version": "3.12.4"
  }
 },
 "nbformat": 4,
 "nbformat_minor": 2
}
